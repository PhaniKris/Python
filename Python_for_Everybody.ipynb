{
  "nbformat": 4,
  "nbformat_minor": 0,
  "metadata": {
    "colab": {
      "name": "Python for Everybody.ipynb",
      "provenance": [],
      "authorship_tag": "ABX9TyMe5Hl9UGM133xR58Z3dSF/",
      "include_colab_link": true
    },
    "kernelspec": {
      "name": "python3",
      "display_name": "Python 3"
    },
    "language_info": {
      "name": "python"
    }
  },
  "cells": [
    {
      "cell_type": "markdown",
      "metadata": {
        "id": "view-in-github",
        "colab_type": "text"
      },
      "source": [
        "<a href=\"https://colab.research.google.com/github/PhaniKris/Python/blob/main/Python_for_Everybody.ipynb\" target=\"_parent\"><img src=\"https://colab.research.google.com/assets/colab-badge.svg\" alt=\"Open In Colab\"/></a>"
      ]
    },
    {
      "cell_type": "code",
      "metadata": {
        "colab": {
          "base_uri": "https://localhost:8080/"
        },
        "id": "XsqHXTg5SsJQ",
        "outputId": "51096d85-bf11-47e8-fa08-09be7ce27fba"
      },
      "source": [
        "sh = input(\"Enter Hours:\")\n",
        "fh = float(sh)\n",
        "sr = input(\"Enter Rate:\")\n",
        "fr = float(sr)\n",
        "pay = fh + fr\n",
        "print(pay)"
      ],
      "execution_count": null,
      "outputs": [
        {
          "output_type": "stream",
          "text": [
            "Enter Hours:498.75\n",
            "Enter Rate:0\n",
            "pay 498.75\n"
          ],
          "name": "stdout"
        }
      ]
    },
    {
      "cell_type": "code",
      "metadata": {
        "colab": {
          "base_uri": "https://localhost:8080/"
        },
        "id": "M20jzwScaJRK",
        "outputId": "4ed05e8d-b37c-421b-ec94-9bae3ea12e32"
      },
      "source": [
        "x = input(\"enter the number\")\n",
        "num = float(x)\n",
        "if num >= 0.9 :\n",
        "    print(\"A\")\n",
        "elif num >= 0.8 :\n",
        "    print(\"B\")\n",
        "elif num >= 0.7 :\n",
        "    print(\"C\")\n",
        "elif num >= 0.6 :\n",
        "    print(\"D\")\n",
        "elif num < 0.6 :\n",
        "    print(\"E\")\n",
        "else :\n",
        "    print(\"there is error\")"
      ],
      "execution_count": null,
      "outputs": [
        {
          "output_type": "stream",
          "text": [
            "enter the number0.85\n",
            "B\n"
          ],
          "name": "stdout"
        }
      ]
    },
    {
      "cell_type": "code",
      "metadata": {
        "id": "4CH4VsMudpsM"
      },
      "source": [
        "if  x == 5 :\n",
        "    print('Is 5')\n",
        "    print('Is Still 5')\n",
        "    print('Third 5')"
      ],
      "execution_count": null,
      "outputs": []
    },
    {
      "cell_type": "code",
      "metadata": {
        "colab": {
          "base_uri": "https://localhost:8080/"
        },
        "id": "iI6WtrErebfK",
        "outputId": "3b64428f-974e-4d18-827c-579f58bc7064"
      },
      "source": [
        "x = 0\n",
        "if x < 2 :\n",
        "    print('Small')\n",
        "elif x < 10 :\n",
        "    print('Medium')\n",
        "else :\n",
        "    print('LARGE')\n",
        "print('All done')"
      ],
      "execution_count": null,
      "outputs": [
        {
          "output_type": "stream",
          "text": [
            "Small\n",
            "All done\n"
          ],
          "name": "stdout"
        }
      ]
    },
    {
      "cell_type": "code",
      "metadata": {
        "colab": {
          "base_uri": "https://localhost:8080/"
        },
        "id": "ntBldnYUfGdW",
        "outputId": "d87372a1-dd07-4c2b-8d78-48f72946b12b"
      },
      "source": [
        "x = 2.0\n",
        "if x < 2 :\n",
        "    print('Below 2')\n",
        "elif x >= 2 :\n",
        "     print('Two or more')\n",
        "else :\n",
        "    print('Something else')"
      ],
      "execution_count": null,
      "outputs": [
        {
          "output_type": "stream",
          "text": [
            "Two or more\n"
          ],
          "name": "stdout"
        }
      ]
    },
    {
      "cell_type": "code",
      "metadata": {
        "colab": {
          "base_uri": "https://localhost:8080/"
        },
        "id": "mDgJ4Zc7fl6z",
        "outputId": "a6cc2ceb-2284-4a80-84c0-510ad62eb4af"
      },
      "source": [
        "astr = 'Hello Bob'\n",
        "istr = 0\n",
        "try:\n",
        "    istr = int(astr)\n",
        "except:\n",
        "    istr = -1\n",
        "print(istr)"
      ],
      "execution_count": null,
      "outputs": [
        {
          "output_type": "stream",
          "text": [
            "-1\n"
          ],
          "name": "stdout"
        }
      ]
    },
    {
      "cell_type": "code",
      "metadata": {
        "colab": {
          "base_uri": "https://localhost:8080/"
        },
        "id": "uLLUo21Z7M0O",
        "outputId": "0c0b5ed1-ea4b-4ded-ef6a-e600ae5fa70f"
      },
      "source": [
        "#creating/defining user defined function\n",
        "\n",
        "def greet():\n",
        "    print(\"hellow world\")\n",
        "greet()\n",
        "print(\"Hi\")\n",
        "greet()"
      ],
      "execution_count": null,
      "outputs": [
        {
          "output_type": "stream",
          "text": [
            "hellow world\n",
            "Hi\n",
            "hellow world\n"
          ],
          "name": "stdout"
        }
      ]
    },
    {
      "cell_type": "code",
      "metadata": {
        "colab": {
          "base_uri": "https://localhost:8080/"
        },
        "id": "KNsbiNNS84So",
        "outputId": "54874d82-3e59-4eb2-ba33-730e185e0469"
      },
      "source": [
        "#defining function\n",
        "\n",
        "def greet(lang):\n",
        "    if lang == 'es':\n",
        "       print(\"halo\")\n",
        "    elif lang == 'fr':\n",
        "        print(\"bonjour\")\n",
        "    else:\n",
        "        print(\"hello\")\n",
        "#calling a function\n",
        "\n",
        "greet('es')\n",
        "greet('fr')\n",
        "greet('en')\n",
        "greet('ch')"
      ],
      "execution_count": null,
      "outputs": [
        {
          "output_type": "stream",
          "text": [
            "halo\n",
            "bonjour\n",
            "hello\n",
            "hello\n"
          ],
          "name": "stdout"
        }
      ]
    },
    {
      "cell_type": "code",
      "metadata": {
        "colab": {
          "base_uri": "https://localhost:8080/"
        },
        "id": "Il-PkBl1-wXA",
        "outputId": "94bded31-9c35-4ea6-d3a2-e6e3dd2c17c5"
      },
      "source": [
        "#defining function with return value\n",
        "\n",
        "def greet(lang):\n",
        "    if lang == 'es':\n",
        "       return \"halo\"\n",
        "    elif lang == 'fr':\n",
        "        return \"bonjour\"\n",
        "    else:\n",
        "        return \"hello\"\n",
        "#calling a function\n",
        "\n",
        "print(greet('es'),\"roy\")\n",
        "print(greet('en'),\"bob\")\n",
        "print(greet('fr'),\"fransis\")\n",
        "print(greet('br'),\"sam\")"
      ],
      "execution_count": null,
      "outputs": [
        {
          "output_type": "stream",
          "text": [
            "halo roy\n",
            "hello bob\n",
            "bonjour fransis\n",
            "hello sam\n"
          ],
          "name": "stdout"
        }
      ]
    },
    {
      "cell_type": "code",
      "metadata": {
        "colab": {
          "base_uri": "https://localhost:8080/"
        },
        "id": "Q1JYUNy9_1U2",
        "outputId": "9d1c9c6c-aa4f-4ea8-e0d1-e300385b3e59"
      },
      "source": [
        "#function with multiple parameters\n",
        "\n",
        "def sum(a,b):\n",
        "    add = a + b\n",
        "    return add\n",
        "print(sum(2,3))"
      ],
      "execution_count": null,
      "outputs": [
        {
          "output_type": "stream",
          "text": [
            "5\n"
          ],
          "name": "stdout"
        }
      ]
    },
    {
      "cell_type": "code",
      "metadata": {
        "colab": {
          "base_uri": "https://localhost:8080/"
        },
        "id": "GFeevZxTBEiS",
        "outputId": "b14609b6-e6a7-4418-eb09-685dcf0755ee"
      },
      "source": [
        "#while loop\n",
        "\n",
        "n = 5\n",
        "while n > 0:\n",
        "    print(n)\n",
        "    n = n-1\n",
        "print(\"done\")"
      ],
      "execution_count": null,
      "outputs": [
        {
          "output_type": "stream",
          "text": [
            "5\n",
            "4\n",
            "3\n",
            "2\n",
            "1\n",
            "done\n"
          ],
          "name": "stdout"
        }
      ]
    },
    {
      "cell_type": "code",
      "metadata": {
        "colab": {
          "base_uri": "https://localhost:8080/"
        },
        "id": "kNrrqLhYLtn0",
        "outputId": "bf852c41-0a46-4dc0-95b5-a0978a08ecd6"
      },
      "source": [
        "#while loop with break\n",
        "\n",
        "while True:\n",
        "    line = input('> ')\n",
        "    if line == 'done':\n",
        "        break\n",
        "    print(line)\n",
        "print('done!')"
      ],
      "execution_count": null,
      "outputs": [
        {
          "output_type": "stream",
          "text": [
            "> hello\n",
            "hello\n",
            "> hi\n",
            "hi\n",
            "> world\n",
            "world\n",
            "> done\n",
            "done!\n"
          ],
          "name": "stdout"
        }
      ]
    },
    {
      "cell_type": "code",
      "metadata": {
        "colab": {
          "base_uri": "https://localhost:8080/"
        },
        "id": "Nf0zkbjcPCpr",
        "outputId": "f16b9a1c-ad70-4ff3-8b1d-064ef801269b"
      },
      "source": [
        "#while loop with continue & break\n",
        "\n",
        "while True:\n",
        "    line = input('< ')\n",
        "    if line[0] == \"#\":\n",
        "        continue\n",
        "    if line == \"done\":\n",
        "        break\n",
        "    print(line)\n",
        "print('done')"
      ],
      "execution_count": null,
      "outputs": [
        {
          "output_type": "stream",
          "text": [
            "< hello\n",
            "hello\n",
            "< #world\n",
            "< hi\n",
            "hi\n",
            "< #happy\n",
            "< done\n",
            "done\n"
          ],
          "name": "stdout"
        }
      ]
    },
    {
      "cell_type": "code",
      "metadata": {
        "colab": {
          "base_uri": "https://localhost:8080/"
        },
        "id": "I3Rhu2scRLnO",
        "outputId": "f2f5cb14-1e6f-4a0e-d9b1-54b099b50aa6"
      },
      "source": [
        "# for loop\n",
        "\n",
        "for i in [5,4,3,2,1]:\n",
        "    i = i-1\n",
        "    print(i)\n",
        "print('done!')"
      ],
      "execution_count": null,
      "outputs": [
        {
          "output_type": "stream",
          "text": [
            "4\n",
            "3\n",
            "2\n",
            "1\n",
            "0\n",
            "done!\n"
          ],
          "name": "stdout"
        }
      ]
    },
    {
      "cell_type": "code",
      "metadata": {
        "colab": {
          "base_uri": "https://localhost:8080/"
        },
        "id": "3wF3vk0BUOlo",
        "outputId": "7f206772-e150-4e09-a02d-a9e93339f984"
      },
      "source": [
        "for friend in ['ajay','raju', 'ravi', 'vikram']:\n",
        "    print('hi', friend)"
      ],
      "execution_count": null,
      "outputs": [
        {
          "output_type": "stream",
          "text": [
            "hi ajay\n",
            "hi raju\n",
            "hi ravi\n",
            "hi vikram\n"
          ],
          "name": "stdout"
        }
      ]
    },
    {
      "cell_type": "code",
      "metadata": {
        "colab": {
          "base_uri": "https://localhost:8080/"
        },
        "id": "Dh6y3a8pVA3J",
        "outputId": "755cb5ab-9c41-48ec-cb0c-cf2c7e5dcee8"
      },
      "source": [
        "#finding largest number using for loop\n",
        "\n",
        "largest_sofar = -1\n",
        "print('before', largest_sofar)\n",
        "for num in [3, 20, 2, 60, 10, 45]:\n",
        "    if num > largest_sofar:\n",
        "        largest_sofar = num\n",
        "        print(largest_sofar, num)\n",
        "    else:\n",
        "        print(largest_sofar, num)\n",
        "print('after', largest_sofar)"
      ],
      "execution_count": null,
      "outputs": [
        {
          "output_type": "stream",
          "text": [
            "before -1\n",
            "3 3\n",
            "20 20\n",
            "20 2\n",
            "60 60\n",
            "60 10\n",
            "60 45\n",
            "after 60\n"
          ],
          "name": "stdout"
        }
      ]
    },
    {
      "cell_type": "code",
      "metadata": {
        "colab": {
          "base_uri": "https://localhost:8080/"
        },
        "id": "lN6-JL8-rzJE",
        "outputId": "d16bdf60-8629-4680-c486-eb2f29a1ce11"
      },
      "source": [
        "#finding smallest number\n",
        "smallest_sofar = 10\n",
        "print('before', smallest_sofar)\n",
        "for num in [3, 20, 2, 60, 10, 45]:\n",
        "    if num < smallest_sofar:\n",
        "        smallest_sofar = num\n",
        "        print(smallest_sofar, num)\n",
        "    else:\n",
        "        print(smallest_sofar, num)\n",
        "print('after', smallest_sofar)"
      ],
      "execution_count": null,
      "outputs": [
        {
          "output_type": "stream",
          "text": [
            "before 10\n",
            "3 3\n",
            "3 20\n",
            "2 2\n",
            "2 60\n",
            "2 10\n",
            "2 45\n",
            "after 2\n"
          ],
          "name": "stdout"
        }
      ]
    },
    {
      "cell_type": "code",
      "metadata": {
        "id": "mgalO-i8W8ey",
        "colab": {
          "base_uri": "https://localhost:8080/"
        },
        "outputId": "ae78bc47-36ec-4d5b-a8ad-819c86b459ef"
      },
      "source": [
        "def computepay(hours):\n",
        "    if hours == 40:\n",
        "        rate = 10\n",
        "        print(hours * rate)\n",
        "    elif hours < 40:\n",
        "        rate = 08.50\n",
        "        print(hours * rate)\n",
        "    else:\n",
        "        rate = 10.50\n",
        "        print(hours * rate)\n",
        "\n",
        "computepay(47.5)"
      ],
      "execution_count": null,
      "outputs": [
        {
          "output_type": "stream",
          "text": [
            "498.75\n"
          ],
          "name": "stdout"
        }
      ]
    },
    {
      "cell_type": "code",
      "metadata": {
        "colab": {
          "base_uri": "https://localhost:8080/"
        },
        "id": "0xYyHVh-wDt7",
        "outputId": "bfd0ba7a-2e03-4ee2-c547-acb523ecb660"
      },
      "source": [
        "def computepay():\n",
        "    hours = float(input('enter hours:'))\n",
        "    rate = float(input('enter rate:'))\n",
        "    total = hours * rate\n",
        "    return total\n",
        "print(computepay())"
      ],
      "execution_count": null,
      "outputs": [
        {
          "output_type": "stream",
          "text": [
            "enter hours:47.5\n",
            "enter rate:10.5\n",
            "498.75\n"
          ],
          "name": "stdout"
        }
      ]
    },
    {
      "cell_type": "code",
      "metadata": {
        "colab": {
          "base_uri": "https://localhost:8080/"
        },
        "id": "l5mIl605794m",
        "outputId": "cac3820c-90b7-4cb8-ef9c-b2e3ad704796"
      },
      "source": [
        "def print_lyrics():\n",
        "    print(\"hello world\")\n",
        "    print('hi world')\n",
        "\n",
        "def repeat_lyrics():\n",
        "    print_lyrics()\n",
        "    print_lyrics()\n",
        "repeat_lyrics()"
      ],
      "execution_count": null,
      "outputs": [
        {
          "output_type": "stream",
          "text": [
            "hello world\n",
            "hi world\n",
            "hello world\n",
            "hi world\n"
          ],
          "name": "stdout"
        }
      ]
    },
    {
      "cell_type": "code",
      "metadata": {
        "colab": {
          "base_uri": "https://localhost:8080/"
        },
        "id": "BwYUXAt39IE_",
        "outputId": "65b0645b-ad20-4394-f0cc-49c1f6d8519a"
      },
      "source": [
        "def computepay(hours, rate):\n",
        "    hours = float(input('enter hours:'))\n",
        "    #rate = float(input('enter rate:'))\n",
        "    if hours > 40:\n",
        "        x = hours * (10 + 0.5)\n",
        "        return x\n",
        "    else:\n",
        "        x = hours * 10\n",
        "        print(x)\n",
        "computepay(hours, rate)"
      ],
      "execution_count": null,
      "outputs": [
        {
          "output_type": "stream",
          "text": [
            "enter hours:45\n"
          ],
          "name": "stdout"
        },
        {
          "output_type": "execute_result",
          "data": {
            "text/plain": [
              "472.5"
            ]
          },
          "metadata": {
            "tags": []
          },
          "execution_count": 45
        }
      ]
    },
    {
      "cell_type": "code",
      "metadata": {
        "colab": {
          "base_uri": "https://localhost:8080/"
        },
        "id": "KB1kd5NdjCQA",
        "outputId": "7fc5d3c9-34b8-4d00-cc08-be592d07684e"
      },
      "source": [
        "found = 'FALSE'\n",
        "print('before', found)\n",
        "for i in [3, 40, 84, 63, 22, 55]:\n",
        "    if i == 63:\n",
        "        found = 'TRUE'\n",
        "    print(found, i)\n",
        "print('after', found) "
      ],
      "execution_count": null,
      "outputs": [
        {
          "output_type": "stream",
          "text": [
            "before FALSE\n",
            "FALSE 3\n",
            "FALSE 40\n",
            "FALSE 84\n",
            "TRUE 63\n",
            "TRUE 22\n",
            "TRUE 55\n",
            "after TRUE\n"
          ],
          "name": "stdout"
        }
      ]
    },
    {
      "cell_type": "code",
      "metadata": {
        "colab": {
          "base_uri": "https://localhost:8080/"
        },
        "id": "yKVNCWG6rpZt",
        "outputId": "20149e89-fab0-4fd7-9cb2-0540c0421eff"
      },
      "source": [
        "#strings\n",
        "fruit = 'banana'\n",
        "print(fruit[1])"
      ],
      "execution_count": null,
      "outputs": [
        {
          "output_type": "stream",
          "text": [
            "a\n"
          ],
          "name": "stdout"
        }
      ]
    },
    {
      "cell_type": "code",
      "metadata": {
        "colab": {
          "base_uri": "https://localhost:8080/"
        },
        "id": "XBEViufCw4qO",
        "outputId": "d7a6362c-2a54-4a39-c632-dd9429ba65f7"
      },
      "source": [
        "fruit = 'banana'\n",
        "print(len(fruit))"
      ],
      "execution_count": null,
      "outputs": [
        {
          "output_type": "stream",
          "text": [
            "6\n"
          ],
          "name": "stdout"
        }
      ]
    },
    {
      "cell_type": "code",
      "metadata": {
        "colab": {
          "base_uri": "https://localhost:8080/"
        },
        "id": "n1cyi_3sxE--",
        "outputId": "eae754db-f00b-48ad-9497-d7fef4f49c80"
      },
      "source": [
        "fruit = 'banana'\n",
        "index = 0\n",
        "while index < len(fruit):\n",
        "    letter = fruit[index]\n",
        "    print(index, letter)\n",
        "    index = index + 1"
      ],
      "execution_count": null,
      "outputs": [
        {
          "output_type": "stream",
          "text": [
            "0 b\n",
            "1 a\n",
            "2 n\n",
            "3 a\n",
            "4 n\n",
            "5 a\n"
          ],
          "name": "stdout"
        }
      ]
    },
    {
      "cell_type": "code",
      "metadata": {
        "colab": {
          "base_uri": "https://localhost:8080/"
        },
        "id": "QbckSpHZx6eW",
        "outputId": "88225aac-72c3-4fc4-fdfb-ae5cecc68a0e"
      },
      "source": [
        "fruit = 'banana'\n",
        "index = 0\n",
        "for letter in fruit:\n",
        "    print(letter)"
      ],
      "execution_count": null,
      "outputs": [
        {
          "output_type": "stream",
          "text": [
            "b\n",
            "a\n",
            "n\n",
            "a\n",
            "n\n",
            "a\n"
          ],
          "name": "stdout"
        }
      ]
    },
    {
      "cell_type": "code",
      "metadata": {
        "colab": {
          "base_uri": "https://localhost:8080/"
        },
        "id": "h-caiA47zX0A",
        "outputId": "16f10cba-eb20-495a-976d-1494d56dd184"
      },
      "source": [
        "fruit = 'mango'\n",
        "print('n is in fruit =', 'n' in fruit)\n",
        "print('s is in fruit =', 's' in fruit)"
      ],
      "execution_count": null,
      "outputs": [
        {
          "output_type": "stream",
          "text": [
            "n is in fruit = True\n",
            "s is in fruit = False\n"
          ],
          "name": "stdout"
        }
      ]
    },
    {
      "cell_type": "code",
      "metadata": {
        "colab": {
          "base_uri": "https://localhost:8080/"
        },
        "id": "iSy3r-OfBKOo",
        "outputId": "939c0768-3ed0-4327-9de1-a60d0843d0bb"
      },
      "source": [
        "#converting upper case to lower case\n",
        "greet = 'Hello World'\n",
        "x = greet.lower()\n",
        "print(x)\n",
        "\n",
        "#converting lower case to upper case\n",
        "greet = 'Hello World'\n",
        "y = greet.upper()\n",
        "print(y)"
      ],
      "execution_count": null,
      "outputs": [
        {
          "output_type": "stream",
          "text": [
            "hello world\n",
            "HELLO WORLD\n"
          ],
          "name": "stdout"
        }
      ]
    },
    {
      "cell_type": "code",
      "metadata": {
        "colab": {
          "base_uri": "https://localhost:8080/"
        },
        "id": "gRCAVuTgC9hc",
        "outputId": "b566d6c9-2ae8-4657-c289-b08f47545a8f"
      },
      "source": [
        "#finding position/index value of letter in a word\n",
        "fruit = 'mango'\n",
        "pos = fruit.find('n')\n",
        "print(pos)"
      ],
      "execution_count": null,
      "outputs": [
        {
          "output_type": "stream",
          "text": [
            "2\n"
          ],
          "name": "stdout"
        }
      ]
    },
    {
      "cell_type": "code",
      "metadata": {
        "colab": {
          "base_uri": "https://localhost:8080/"
        },
        "id": "zqOuvA6wDoSZ",
        "outputId": "b405e9b2-d221-432a-a926-5fd0998e0334"
      },
      "source": [
        "#replacing words\n",
        "greet = 'hello bob'\n",
        "n = greet.replace('bob', 'john')\n",
        "print(n)"
      ],
      "execution_count": null,
      "outputs": [
        {
          "output_type": "stream",
          "text": [
            "hello john\n"
          ],
          "name": "stdout"
        }
      ]
    },
    {
      "cell_type": "code",
      "metadata": {
        "colab": {
          "base_uri": "https://localhost:8080/"
        },
        "id": "S6kl3yRuEHTP",
        "outputId": "cb1eff36-dcd3-425e-9a92-8040628ffc9c"
      },
      "source": [
        "#WHITE SPACES#\n",
        "\n",
        "#removing space before word\n",
        "greet = ' hello world 1'\n",
        "x = greet.lstrip()\n",
        "print(x)\n",
        "\n",
        "#removing space after word\n",
        "wish = 'hello world 2 '\n",
        "y = wish.rstrip()\n",
        "print(y)\n",
        "\n",
        "#removes space before and after word\n",
        "say = ' hello world 3 '\n",
        "z = say.strip()\n",
        "print(z)"
      ],
      "execution_count": null,
      "outputs": [
        {
          "output_type": "stream",
          "text": [
            "hello world 1\n",
            "hello world 2\n",
            "hello world 3\n"
          ],
          "name": "stdout"
        }
      ]
    },
    {
      "cell_type": "code",
      "metadata": {
        "colab": {
          "base_uri": "https://localhost:8080/"
        },
        "id": "m71bNUpDFPMz",
        "outputId": "1624f192-65d9-499a-c196-5c3b9dcd15e8"
      },
      "source": [
        "# checking prefixes\n",
        "line = 'this is my code'\n",
        "a = line.startswith('my')\n",
        "b = line.startswith('this')\n",
        "c = line.startswith('t')\n",
        "d = line.startswith('T')\n",
        "\n",
        "print(a)\n",
        "print(b)\n",
        "print(c)\n",
        "print(d)"
      ],
      "execution_count": null,
      "outputs": [
        {
          "output_type": "stream",
          "text": [
            "False\n",
            "True\n",
            "True\n",
            "False\n"
          ],
          "name": "stdout"
        }
      ]
    }
  ]
}