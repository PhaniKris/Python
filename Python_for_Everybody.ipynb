{
  "nbformat": 4,
  "nbformat_minor": 0,
  "metadata": {
    "colab": {
      "name": "Python for Everybody.ipynb",
      "provenance": [],
      "authorship_tag": "ABX9TyPlpvaa4XfHVZtJpc57K0xy",
      "include_colab_link": true
    },
    "kernelspec": {
      "name": "python3",
      "display_name": "Python 3"
    },
    "language_info": {
      "name": "python"
    }
  },
  "cells": [
    {
      "cell_type": "markdown",
      "metadata": {
        "id": "view-in-github",
        "colab_type": "text"
      },
      "source": [
        "<a href=\"https://colab.research.google.com/github/PhaniKris/Python/blob/main/Python_for_Everybody.ipynb\" target=\"_parent\"><img src=\"https://colab.research.google.com/assets/colab-badge.svg\" alt=\"Open In Colab\"/></a>"
      ]
    },
    {
      "cell_type": "code",
      "metadata": {
        "colab": {
          "base_uri": "https://localhost:8080/"
        },
        "id": "XsqHXTg5SsJQ",
        "outputId": "51096d85-bf11-47e8-fa08-09be7ce27fba"
      },
      "source": [
        "sh = input(\"Enter Hours:\")\n",
        "fh = float(sh)\n",
        "sr = input(\"Enter Rate:\")\n",
        "fr = float(sr)\n",
        "pay = fh + fr\n",
        "print(pay)"
      ],
      "execution_count": null,
      "outputs": [
        {
          "output_type": "stream",
          "text": [
            "Enter Hours:498.75\n",
            "Enter Rate:0\n",
            "pay 498.75\n"
          ],
          "name": "stdout"
        }
      ]
    },
    {
      "cell_type": "code",
      "metadata": {
        "colab": {
          "base_uri": "https://localhost:8080/"
        },
        "id": "M20jzwScaJRK",
        "outputId": "4ed05e8d-b37c-421b-ec94-9bae3ea12e32"
      },
      "source": [
        "x = input(\"enter the number\")\n",
        "num = float(x)\n",
        "if num >= 0.9 :\n",
        "    print(\"A\")\n",
        "elif num >= 0.8 :\n",
        "    print(\"B\")\n",
        "elif num >= 0.7 :\n",
        "    print(\"C\")\n",
        "elif num >= 0.6 :\n",
        "    print(\"D\")\n",
        "elif num < 0.6 :\n",
        "    print(\"E\")\n",
        "else :\n",
        "    print(\"there is error\")"
      ],
      "execution_count": null,
      "outputs": [
        {
          "output_type": "stream",
          "text": [
            "enter the number0.85\n",
            "B\n"
          ],
          "name": "stdout"
        }
      ]
    },
    {
      "cell_type": "code",
      "metadata": {
        "id": "4CH4VsMudpsM"
      },
      "source": [
        "if  x == 5 :\n",
        "    print('Is 5')\n",
        "    print('Is Still 5')\n",
        "    print('Third 5')"
      ],
      "execution_count": null,
      "outputs": []
    },
    {
      "cell_type": "code",
      "metadata": {
        "colab": {
          "base_uri": "https://localhost:8080/"
        },
        "id": "iI6WtrErebfK",
        "outputId": "3b64428f-974e-4d18-827c-579f58bc7064"
      },
      "source": [
        "x = 0\n",
        "if x < 2 :\n",
        "    print('Small')\n",
        "elif x < 10 :\n",
        "    print('Medium')\n",
        "else :\n",
        "    print('LARGE')\n",
        "print('All done')"
      ],
      "execution_count": null,
      "outputs": [
        {
          "output_type": "stream",
          "text": [
            "Small\n",
            "All done\n"
          ],
          "name": "stdout"
        }
      ]
    },
    {
      "cell_type": "code",
      "metadata": {
        "colab": {
          "base_uri": "https://localhost:8080/"
        },
        "id": "ntBldnYUfGdW",
        "outputId": "d87372a1-dd07-4c2b-8d78-48f72946b12b"
      },
      "source": [
        "x = 2.0\n",
        "if x < 2 :\n",
        "    print('Below 2')\n",
        "elif x >= 2 :\n",
        "     print('Two or more')\n",
        "else :\n",
        "    print('Something else')"
      ],
      "execution_count": null,
      "outputs": [
        {
          "output_type": "stream",
          "text": [
            "Two or more\n"
          ],
          "name": "stdout"
        }
      ]
    },
    {
      "cell_type": "code",
      "metadata": {
        "colab": {
          "base_uri": "https://localhost:8080/"
        },
        "id": "mDgJ4Zc7fl6z",
        "outputId": "a6cc2ceb-2284-4a80-84c0-510ad62eb4af"
      },
      "source": [
        "astr = 'Hello Bob'\n",
        "istr = 0\n",
        "try:\n",
        "    istr = int(astr)\n",
        "except:\n",
        "    istr = -1\n",
        "print(istr)"
      ],
      "execution_count": null,
      "outputs": [
        {
          "output_type": "stream",
          "text": [
            "-1\n"
          ],
          "name": "stdout"
        }
      ]
    },
    {
      "cell_type": "code",
      "metadata": {
        "colab": {
          "base_uri": "https://localhost:8080/"
        },
        "id": "uLLUo21Z7M0O",
        "outputId": "0c0b5ed1-ea4b-4ded-ef6a-e600ae5fa70f"
      },
      "source": [
        "#creating/defining user defined function\n",
        "\n",
        "def greet():\n",
        "    print(\"hellow world\")\n",
        "greet()\n",
        "print(\"Hi\")\n",
        "greet()"
      ],
      "execution_count": 1,
      "outputs": [
        {
          "output_type": "stream",
          "text": [
            "hellow world\n",
            "Hi\n",
            "hellow world\n"
          ],
          "name": "stdout"
        }
      ]
    },
    {
      "cell_type": "code",
      "metadata": {
        "colab": {
          "base_uri": "https://localhost:8080/"
        },
        "id": "KNsbiNNS84So",
        "outputId": "54874d82-3e59-4eb2-ba33-730e185e0469"
      },
      "source": [
        "#defining function\n",
        "\n",
        "def greet(lang):\n",
        "    if lang == 'es':\n",
        "       print(\"halo\")\n",
        "    elif lang == 'fr':\n",
        "        print(\"bonjour\")\n",
        "    else:\n",
        "        print(\"hello\")\n",
        "#calling a function\n",
        "\n",
        "greet('es')\n",
        "greet('fr')\n",
        "greet('en')\n",
        "greet('ch')"
      ],
      "execution_count": 4,
      "outputs": [
        {
          "output_type": "stream",
          "text": [
            "halo\n",
            "bonjour\n",
            "hello\n",
            "hello\n"
          ],
          "name": "stdout"
        }
      ]
    },
    {
      "cell_type": "code",
      "metadata": {
        "colab": {
          "base_uri": "https://localhost:8080/"
        },
        "id": "Il-PkBl1-wXA",
        "outputId": "94bded31-9c35-4ea6-d3a2-e6e3dd2c17c5"
      },
      "source": [
        "#defining function with return value\n",
        "\n",
        "def greet(lang):\n",
        "    if lang == 'es':\n",
        "       return \"halo\"\n",
        "    elif lang == 'fr':\n",
        "        return \"bonjour\"\n",
        "    else:\n",
        "        return \"hello\"\n",
        "#calling a function\n",
        "\n",
        "print(greet('es'),\"roy\")\n",
        "print(greet('en'),\"bob\")\n",
        "print(greet('fr'),\"fransis\")\n",
        "print(greet('br'),\"sam\")"
      ],
      "execution_count": 5,
      "outputs": [
        {
          "output_type": "stream",
          "text": [
            "halo roy\n",
            "hello bob\n",
            "bonjour fransis\n",
            "hello sam\n"
          ],
          "name": "stdout"
        }
      ]
    },
    {
      "cell_type": "code",
      "metadata": {
        "colab": {
          "base_uri": "https://localhost:8080/"
        },
        "id": "Q1JYUNy9_1U2",
        "outputId": "9d1c9c6c-aa4f-4ea8-e0d1-e300385b3e59"
      },
      "source": [
        "#function with multiple parameters\n",
        "\n",
        "def sum(a,b):\n",
        "    add = a + b\n",
        "    return add\n",
        "print(sum(2,3))"
      ],
      "execution_count": 8,
      "outputs": [
        {
          "output_type": "stream",
          "text": [
            "5\n"
          ],
          "name": "stdout"
        }
      ]
    },
    {
      "cell_type": "code",
      "metadata": {
        "colab": {
          "base_uri": "https://localhost:8080/"
        },
        "id": "GFeevZxTBEiS",
        "outputId": "b14609b6-e6a7-4418-eb09-685dcf0755ee"
      },
      "source": [
        "#while loop\n",
        "\n",
        "n = 5\n",
        "while n > 0:\n",
        "    print(n)\n",
        "    n = n-1\n",
        "print(\"done\")"
      ],
      "execution_count": 9,
      "outputs": [
        {
          "output_type": "stream",
          "text": [
            "5\n",
            "4\n",
            "3\n",
            "2\n",
            "1\n",
            "done\n"
          ],
          "name": "stdout"
        }
      ]
    },
    {
      "cell_type": "code",
      "metadata": {
        "colab": {
          "base_uri": "https://localhost:8080/"
        },
        "id": "kNrrqLhYLtn0",
        "outputId": "bf852c41-0a46-4dc0-95b5-a0978a08ecd6"
      },
      "source": [
        "#while loop with break\n",
        "\n",
        "while True:\n",
        "    line = input('> ')\n",
        "    if line == 'done':\n",
        "        break\n",
        "    print(line)\n",
        "print('done!')"
      ],
      "execution_count": 22,
      "outputs": [
        {
          "output_type": "stream",
          "text": [
            "> hello\n",
            "hello\n",
            "> hi\n",
            "hi\n",
            "> world\n",
            "world\n",
            "> done\n",
            "done!\n"
          ],
          "name": "stdout"
        }
      ]
    },
    {
      "cell_type": "code",
      "metadata": {
        "colab": {
          "base_uri": "https://localhost:8080/"
        },
        "id": "Nf0zkbjcPCpr",
        "outputId": "f16b9a1c-ad70-4ff3-8b1d-064ef801269b"
      },
      "source": [
        "#while loop with continue & break\n",
        "\n",
        "while True:\n",
        "    line = input('< ')\n",
        "    if line[0] == \"#\":\n",
        "        continue\n",
        "    if line == \"done\":\n",
        "        break\n",
        "    print(line)\n",
        "print('done')"
      ],
      "execution_count": 28,
      "outputs": [
        {
          "output_type": "stream",
          "text": [
            "< hello\n",
            "hello\n",
            "< #world\n",
            "< hi\n",
            "hi\n",
            "< #happy\n",
            "< done\n",
            "done\n"
          ],
          "name": "stdout"
        }
      ]
    },
    {
      "cell_type": "code",
      "metadata": {
        "colab": {
          "base_uri": "https://localhost:8080/"
        },
        "id": "I3Rhu2scRLnO",
        "outputId": "f2f5cb14-1e6f-4a0e-d9b1-54b099b50aa6"
      },
      "source": [
        "# for loop\n",
        "\n",
        "for i in [5,4,3,2,1]:\n",
        "    i = i-1\n",
        "    print(i)\n",
        "print('done!')"
      ],
      "execution_count": 35,
      "outputs": [
        {
          "output_type": "stream",
          "text": [
            "4\n",
            "3\n",
            "2\n",
            "1\n",
            "0\n",
            "done!\n"
          ],
          "name": "stdout"
        }
      ]
    },
    {
      "cell_type": "code",
      "metadata": {
        "colab": {
          "base_uri": "https://localhost:8080/"
        },
        "id": "3wF3vk0BUOlo",
        "outputId": "7f206772-e150-4e09-a02d-a9e93339f984"
      },
      "source": [
        "for friend in ['ajay','raju', 'ravi', 'vikram']:\n",
        "    print('hi', friend)"
      ],
      "execution_count": 36,
      "outputs": [
        {
          "output_type": "stream",
          "text": [
            "hi ajay\n",
            "hi raju\n",
            "hi ravi\n",
            "hi vikram\n"
          ],
          "name": "stdout"
        }
      ]
    },
    {
      "cell_type": "code",
      "metadata": {
        "colab": {
          "base_uri": "https://localhost:8080/"
        },
        "id": "Dh6y3a8pVA3J",
        "outputId": "35f2ecff-dddf-43dc-dcae-4888eb8000db"
      },
      "source": [
        "#finding largest number using for loop\n",
        "\n",
        "largest_sofar = -1\n",
        "print('before', largest_sofar)\n",
        "for num in [3, 20, 2, 60, 10, 45]:\n",
        "    if num > largest_sofar:\n",
        "        largest_sofar = num\n",
        "        print(largest_sofar, num)\n",
        "print('after', largest_sofar)"
      ],
      "execution_count": 40,
      "outputs": [
        {
          "output_type": "stream",
          "text": [
            "before -1\n",
            "3 3\n",
            "20 20\n",
            "60 60\n",
            "after 60\n"
          ],
          "name": "stdout"
        }
      ]
    },
    {
      "cell_type": "code",
      "metadata": {
        "id": "mgalO-i8W8ey"
      },
      "source": [
        ""
      ],
      "execution_count": null,
      "outputs": []
    }
  ]
}