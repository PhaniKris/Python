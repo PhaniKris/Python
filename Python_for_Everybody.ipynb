{
  "nbformat": 4,
  "nbformat_minor": 0,
  "metadata": {
    "colab": {
      "name": "Python for Everybody.ipynb",
      "provenance": [],
      "authorship_tag": "ABX9TyN8FSt3ZPFG4YH9kg6RxDEE",
      "include_colab_link": true
    },
    "kernelspec": {
      "name": "python3",
      "display_name": "Python 3"
    },
    "language_info": {
      "name": "python"
    }
  },
  "cells": [
    {
      "cell_type": "markdown",
      "metadata": {
        "id": "view-in-github",
        "colab_type": "text"
      },
      "source": [
        "<a href=\"https://colab.research.google.com/github/PhaniKris/Python/blob/Python-for-Everybody/Python_for_Everybody.ipynb\" target=\"_parent\"><img src=\"https://colab.research.google.com/assets/colab-badge.svg\" alt=\"Open In Colab\"/></a>"
      ]
    },
    {
      "cell_type": "code",
      "metadata": {
        "colab": {
          "base_uri": "https://localhost:8080/"
        },
        "id": "XsqHXTg5SsJQ",
        "outputId": "51096d85-bf11-47e8-fa08-09be7ce27fba"
      },
      "source": [
        "sh = input(\"Enter Hours:\")\n",
        "fh = float(sh)\n",
        "sr = input(\"Enter Rate:\")\n",
        "fr = float(sr)\n",
        "pay = fh + fr\n",
        "print(pay)"
      ],
      "execution_count": null,
      "outputs": [
        {
          "output_type": "stream",
          "text": [
            "Enter Hours:498.75\n",
            "Enter Rate:0\n",
            "pay 498.75\n"
          ],
          "name": "stdout"
        }
      ]
    },
    {
      "cell_type": "code",
      "metadata": {
        "colab": {
          "base_uri": "https://localhost:8080/"
        },
        "id": "M20jzwScaJRK",
        "outputId": "4ed05e8d-b37c-421b-ec94-9bae3ea12e32"
      },
      "source": [
        "x = input(\"enter the number\")\n",
        "num = float(x)\n",
        "if num >= 0.9 :\n",
        "    print(\"A\")\n",
        "elif num >= 0.8 :\n",
        "    print(\"B\")\n",
        "elif num >= 0.7 :\n",
        "    print(\"C\")\n",
        "elif num >= 0.6 :\n",
        "    print(\"D\")\n",
        "elif num < 0.6 :\n",
        "    print(\"E\")\n",
        "else :\n",
        "    print(\"there is error\")"
      ],
      "execution_count": null,
      "outputs": [
        {
          "output_type": "stream",
          "text": [
            "enter the number0.85\n",
            "B\n"
          ],
          "name": "stdout"
        }
      ]
    },
    {
      "cell_type": "code",
      "metadata": {
        "id": "4CH4VsMudpsM"
      },
      "source": [
        "if  x == 5 :\n",
        "    print('Is 5')\n",
        "    print('Is Still 5')\n",
        "    print('Third 5')"
      ],
      "execution_count": null,
      "outputs": []
    },
    {
      "cell_type": "code",
      "metadata": {
        "colab": {
          "base_uri": "https://localhost:8080/"
        },
        "id": "iI6WtrErebfK",
        "outputId": "3b64428f-974e-4d18-827c-579f58bc7064"
      },
      "source": [
        "x = 0\n",
        "if x < 2 :\n",
        "    print('Small')\n",
        "elif x < 10 :\n",
        "    print('Medium')\n",
        "else :\n",
        "    print('LARGE')\n",
        "print('All done')"
      ],
      "execution_count": null,
      "outputs": [
        {
          "output_type": "stream",
          "text": [
            "Small\n",
            "All done\n"
          ],
          "name": "stdout"
        }
      ]
    },
    {
      "cell_type": "code",
      "metadata": {
        "colab": {
          "base_uri": "https://localhost:8080/"
        },
        "id": "ntBldnYUfGdW",
        "outputId": "d87372a1-dd07-4c2b-8d78-48f72946b12b"
      },
      "source": [
        "x = 2.0\n",
        "if x < 2 :\n",
        "    print('Below 2')\n",
        "elif x >= 2 :\n",
        "     print('Two or more')\n",
        "else :\n",
        "    print('Something else')"
      ],
      "execution_count": null,
      "outputs": [
        {
          "output_type": "stream",
          "text": [
            "Two or more\n"
          ],
          "name": "stdout"
        }
      ]
    },
    {
      "cell_type": "code",
      "metadata": {
        "colab": {
          "base_uri": "https://localhost:8080/"
        },
        "id": "mDgJ4Zc7fl6z",
        "outputId": "a6cc2ceb-2284-4a80-84c0-510ad62eb4af"
      },
      "source": [
        "astr = 'Hello Bob'\n",
        "istr = 0\n",
        "try:\n",
        "    istr = int(astr)\n",
        "except:\n",
        "    istr = -1\n",
        "print(istr)"
      ],
      "execution_count": null,
      "outputs": [
        {
          "output_type": "stream",
          "text": [
            "-1\n"
          ],
          "name": "stdout"
        }
      ]
    },
    {
      "cell_type": "code",
      "metadata": {
        "colab": {
          "base_uri": "https://localhost:8080/"
        },
        "id": "uLLUo21Z7M0O",
        "outputId": "0c0b5ed1-ea4b-4ded-ef6a-e600ae5fa70f"
      },
      "source": [
        "#creating/defining user defined function\n",
        "\n",
        "def greet():\n",
        "    print(\"hellow world\")\n",
        "greet()\n",
        "print(\"Hi\")\n",
        "greet()"
      ],
      "execution_count": null,
      "outputs": [
        {
          "output_type": "stream",
          "text": [
            "hellow world\n",
            "Hi\n",
            "hellow world\n"
          ],
          "name": "stdout"
        }
      ]
    },
    {
      "cell_type": "code",
      "metadata": {
        "colab": {
          "base_uri": "https://localhost:8080/"
        },
        "id": "KNsbiNNS84So",
        "outputId": "54874d82-3e59-4eb2-ba33-730e185e0469"
      },
      "source": [
        "#defining function\n",
        "\n",
        "def greet(lang):\n",
        "    if lang == 'es':\n",
        "       print(\"halo\")\n",
        "    elif lang == 'fr':\n",
        "        print(\"bonjour\")\n",
        "    else:\n",
        "        print(\"hello\")\n",
        "#calling a function\n",
        "\n",
        "greet('es')\n",
        "greet('fr')\n",
        "greet('en')\n",
        "greet('ch')"
      ],
      "execution_count": null,
      "outputs": [
        {
          "output_type": "stream",
          "text": [
            "halo\n",
            "bonjour\n",
            "hello\n",
            "hello\n"
          ],
          "name": "stdout"
        }
      ]
    },
    {
      "cell_type": "code",
      "metadata": {
        "colab": {
          "base_uri": "https://localhost:8080/"
        },
        "id": "Il-PkBl1-wXA",
        "outputId": "94bded31-9c35-4ea6-d3a2-e6e3dd2c17c5"
      },
      "source": [
        "#defining function with return value\n",
        "\n",
        "def greet(lang):\n",
        "    if lang == 'es':\n",
        "       return \"halo\"\n",
        "    elif lang == 'fr':\n",
        "        return \"bonjour\"\n",
        "    else:\n",
        "        return \"hello\"\n",
        "#calling a function\n",
        "\n",
        "print(greet('es'),\"roy\")\n",
        "print(greet('en'),\"bob\")\n",
        "print(greet('fr'),\"fransis\")\n",
        "print(greet('br'),\"sam\")"
      ],
      "execution_count": null,
      "outputs": [
        {
          "output_type": "stream",
          "text": [
            "halo roy\n",
            "hello bob\n",
            "bonjour fransis\n",
            "hello sam\n"
          ],
          "name": "stdout"
        }
      ]
    },
    {
      "cell_type": "code",
      "metadata": {
        "colab": {
          "base_uri": "https://localhost:8080/"
        },
        "id": "Q1JYUNy9_1U2",
        "outputId": "9d1c9c6c-aa4f-4ea8-e0d1-e300385b3e59"
      },
      "source": [
        "#function with multiple parameters\n",
        "\n",
        "def sum(a,b):\n",
        "    add = a + b\n",
        "    return add\n",
        "print(sum(2,3))"
      ],
      "execution_count": null,
      "outputs": [
        {
          "output_type": "stream",
          "text": [
            "5\n"
          ],
          "name": "stdout"
        }
      ]
    },
    {
      "cell_type": "code",
      "metadata": {
        "colab": {
          "base_uri": "https://localhost:8080/"
        },
        "id": "GFeevZxTBEiS",
        "outputId": "b14609b6-e6a7-4418-eb09-685dcf0755ee"
      },
      "source": [
        "#while loop\n",
        "\n",
        "n = 5\n",
        "while n > 0:\n",
        "    print(n)\n",
        "    n = n-1\n",
        "print(\"done\")"
      ],
      "execution_count": null,
      "outputs": [
        {
          "output_type": "stream",
          "text": [
            "5\n",
            "4\n",
            "3\n",
            "2\n",
            "1\n",
            "done\n"
          ],
          "name": "stdout"
        }
      ]
    },
    {
      "cell_type": "code",
      "metadata": {
        "colab": {
          "base_uri": "https://localhost:8080/"
        },
        "id": "kNrrqLhYLtn0",
        "outputId": "bf852c41-0a46-4dc0-95b5-a0978a08ecd6"
      },
      "source": [
        "#while loop with break\n",
        "\n",
        "while True:\n",
        "    line = input('> ')\n",
        "    if line == 'done':\n",
        "        break\n",
        "    print(line)\n",
        "print('done!')"
      ],
      "execution_count": null,
      "outputs": [
        {
          "output_type": "stream",
          "text": [
            "> hello\n",
            "hello\n",
            "> hi\n",
            "hi\n",
            "> world\n",
            "world\n",
            "> done\n",
            "done!\n"
          ],
          "name": "stdout"
        }
      ]
    },
    {
      "cell_type": "code",
      "metadata": {
        "colab": {
          "base_uri": "https://localhost:8080/"
        },
        "id": "Nf0zkbjcPCpr",
        "outputId": "f16b9a1c-ad70-4ff3-8b1d-064ef801269b"
      },
      "source": [
        "#while loop with continue & break\n",
        "\n",
        "while True:\n",
        "    line = input('< ')\n",
        "    if line[0] == \"#\":\n",
        "        continue\n",
        "    if line == \"done\":\n",
        "        break\n",
        "    print(line)\n",
        "print('done')"
      ],
      "execution_count": null,
      "outputs": [
        {
          "output_type": "stream",
          "text": [
            "< hello\n",
            "hello\n",
            "< #world\n",
            "< hi\n",
            "hi\n",
            "< #happy\n",
            "< done\n",
            "done\n"
          ],
          "name": "stdout"
        }
      ]
    },
    {
      "cell_type": "code",
      "metadata": {
        "colab": {
          "base_uri": "https://localhost:8080/"
        },
        "id": "I3Rhu2scRLnO",
        "outputId": "f2f5cb14-1e6f-4a0e-d9b1-54b099b50aa6"
      },
      "source": [
        "# for loop\n",
        "\n",
        "for i in [5,4,3,2,1]:\n",
        "    i = i-1\n",
        "    print(i)\n",
        "print('done!')"
      ],
      "execution_count": null,
      "outputs": [
        {
          "output_type": "stream",
          "text": [
            "4\n",
            "3\n",
            "2\n",
            "1\n",
            "0\n",
            "done!\n"
          ],
          "name": "stdout"
        }
      ]
    },
    {
      "cell_type": "code",
      "metadata": {
        "colab": {
          "base_uri": "https://localhost:8080/"
        },
        "id": "3wF3vk0BUOlo",
        "outputId": "7f206772-e150-4e09-a02d-a9e93339f984"
      },
      "source": [
        "for friend in ['ajay','raju', 'ravi', 'vikram']:\n",
        "    print('hi', friend)"
      ],
      "execution_count": null,
      "outputs": [
        {
          "output_type": "stream",
          "text": [
            "hi ajay\n",
            "hi raju\n",
            "hi ravi\n",
            "hi vikram\n"
          ],
          "name": "stdout"
        }
      ]
    },
    {
      "cell_type": "code",
      "metadata": {
        "colab": {
          "base_uri": "https://localhost:8080/"
        },
        "id": "Dh6y3a8pVA3J",
        "outputId": "755cb5ab-9c41-48ec-cb0c-cf2c7e5dcee8"
      },
      "source": [
        "#finding largest number using for loop\n",
        "\n",
        "largest_sofar = -1\n",
        "print('before', largest_sofar)\n",
        "for num in [3, 20, 2, 60, 10, 45]:\n",
        "    if num > largest_sofar:\n",
        "        largest_sofar = num\n",
        "        print(largest_sofar, num)\n",
        "    else:\n",
        "        print(largest_sofar, num)\n",
        "print('after', largest_sofar)"
      ],
      "execution_count": null,
      "outputs": [
        {
          "output_type": "stream",
          "text": [
            "before -1\n",
            "3 3\n",
            "20 20\n",
            "20 2\n",
            "60 60\n",
            "60 10\n",
            "60 45\n",
            "after 60\n"
          ],
          "name": "stdout"
        }
      ]
    },
    {
      "cell_type": "code",
      "metadata": {
        "colab": {
          "base_uri": "https://localhost:8080/"
        },
        "id": "lN6-JL8-rzJE",
        "outputId": "d16bdf60-8629-4680-c486-eb2f29a1ce11"
      },
      "source": [
        "#finding smallest number\n",
        "smallest_sofar = 10\n",
        "print('before', smallest_sofar)\n",
        "for num in [3, 20, 2, 60, 10, 45]:\n",
        "    if num < smallest_sofar:\n",
        "        smallest_sofar = num\n",
        "        print(smallest_sofar, num)\n",
        "    else:\n",
        "        print(smallest_sofar, num)\n",
        "print('after', smallest_sofar)"
      ],
      "execution_count": null,
      "outputs": [
        {
          "output_type": "stream",
          "text": [
            "before 10\n",
            "3 3\n",
            "3 20\n",
            "2 2\n",
            "2 60\n",
            "2 10\n",
            "2 45\n",
            "after 2\n"
          ],
          "name": "stdout"
        }
      ]
    },
    {
      "cell_type": "code",
      "metadata": {
        "id": "mgalO-i8W8ey",
        "colab": {
          "base_uri": "https://localhost:8080/"
        },
        "outputId": "ae78bc47-36ec-4d5b-a8ad-819c86b459ef"
      },
      "source": [
        "def computepay(hours):\n",
        "    if hours == 40:\n",
        "        rate = 10\n",
        "        print(hours * rate)\n",
        "    elif hours < 40:\n",
        "        rate = 08.50\n",
        "        print(hours * rate)\n",
        "    else:\n",
        "        rate = 10.50\n",
        "        print(hours * rate)\n",
        "\n",
        "computepay(47.5)"
      ],
      "execution_count": null,
      "outputs": [
        {
          "output_type": "stream",
          "text": [
            "498.75\n"
          ],
          "name": "stdout"
        }
      ]
    },
    {
      "cell_type": "code",
      "metadata": {
        "colab": {
          "base_uri": "https://localhost:8080/"
        },
        "id": "0xYyHVh-wDt7",
        "outputId": "bfd0ba7a-2e03-4ee2-c547-acb523ecb660"
      },
      "source": [
        "def computepay():\n",
        "    hours = float(input('enter hours:'))\n",
        "    rate = float(input('enter rate:'))\n",
        "    total = hours * rate\n",
        "    return total\n",
        "print(computepay())"
      ],
      "execution_count": null,
      "outputs": [
        {
          "output_type": "stream",
          "text": [
            "enter hours:47.5\n",
            "enter rate:10.5\n",
            "498.75\n"
          ],
          "name": "stdout"
        }
      ]
    },
    {
      "cell_type": "code",
      "metadata": {
        "colab": {
          "base_uri": "https://localhost:8080/"
        },
        "id": "l5mIl605794m",
        "outputId": "cac3820c-90b7-4cb8-ef9c-b2e3ad704796"
      },
      "source": [
        "def print_lyrics():\n",
        "    print(\"hello world\")\n",
        "    print('hi world')\n",
        "\n",
        "def repeat_lyrics():\n",
        "    print_lyrics()\n",
        "    print_lyrics()\n",
        "repeat_lyrics()"
      ],
      "execution_count": null,
      "outputs": [
        {
          "output_type": "stream",
          "text": [
            "hello world\n",
            "hi world\n",
            "hello world\n",
            "hi world\n"
          ],
          "name": "stdout"
        }
      ]
    },
    {
      "cell_type": "code",
      "metadata": {
        "colab": {
          "base_uri": "https://localhost:8080/"
        },
        "id": "BwYUXAt39IE_",
        "outputId": "65b0645b-ad20-4394-f0cc-49c1f6d8519a"
      },
      "source": [
        "def computepay(hours, rate):\n",
        "    hours = float(input('enter hours:'))\n",
        "    #rate = float(input('enter rate:'))\n",
        "    if hours > 40:\n",
        "        x = hours * (10 + 0.5)\n",
        "        return x\n",
        "    else:\n",
        "        x = hours * 10\n",
        "        print(x)\n",
        "computepay(hours, rate)"
      ],
      "execution_count": null,
      "outputs": [
        {
          "output_type": "stream",
          "text": [
            "enter hours:45\n"
          ],
          "name": "stdout"
        },
        {
          "output_type": "execute_result",
          "data": {
            "text/plain": [
              "472.5"
            ]
          },
          "metadata": {
            "tags": []
          },
          "execution_count": 45
        }
      ]
    },
    {
      "cell_type": "code",
      "metadata": {
        "colab": {
          "base_uri": "https://localhost:8080/"
        },
        "id": "KB1kd5NdjCQA",
        "outputId": "7fc5d3c9-34b8-4d00-cc08-be592d07684e"
      },
      "source": [
        "found = 'FALSE'\n",
        "print('before', found)\n",
        "for i in [3, 40, 84, 63, 22, 55]:\n",
        "    if i == 63:\n",
        "        found = 'TRUE'\n",
        "    print(found, i)\n",
        "print('after', found) "
      ],
      "execution_count": null,
      "outputs": [
        {
          "output_type": "stream",
          "text": [
            "before FALSE\n",
            "FALSE 3\n",
            "FALSE 40\n",
            "FALSE 84\n",
            "TRUE 63\n",
            "TRUE 22\n",
            "TRUE 55\n",
            "after TRUE\n"
          ],
          "name": "stdout"
        }
      ]
    },
    {
      "cell_type": "code",
      "metadata": {
        "colab": {
          "base_uri": "https://localhost:8080/"
        },
        "id": "yKVNCWG6rpZt",
        "outputId": "20149e89-fab0-4fd7-9cb2-0540c0421eff"
      },
      "source": [
        "#strings\n",
        "fruit = 'banana'\n",
        "print(fruit[1])"
      ],
      "execution_count": null,
      "outputs": [
        {
          "output_type": "stream",
          "text": [
            "a\n"
          ],
          "name": "stdout"
        }
      ]
    },
    {
      "cell_type": "code",
      "metadata": {
        "colab": {
          "base_uri": "https://localhost:8080/"
        },
        "id": "XBEViufCw4qO",
        "outputId": "d7a6362c-2a54-4a39-c632-dd9429ba65f7"
      },
      "source": [
        "fruit = 'banana'\n",
        "print(len(fruit))"
      ],
      "execution_count": null,
      "outputs": [
        {
          "output_type": "stream",
          "text": [
            "6\n"
          ],
          "name": "stdout"
        }
      ]
    },
    {
      "cell_type": "code",
      "metadata": {
        "colab": {
          "base_uri": "https://localhost:8080/"
        },
        "id": "n1cyi_3sxE--",
        "outputId": "eae754db-f00b-48ad-9497-d7fef4f49c80"
      },
      "source": [
        "fruit = 'banana'\n",
        "index = 0\n",
        "while index < len(fruit):\n",
        "    letter = fruit[index]\n",
        "    print(index, letter)\n",
        "    index = index + 1"
      ],
      "execution_count": null,
      "outputs": [
        {
          "output_type": "stream",
          "text": [
            "0 b\n",
            "1 a\n",
            "2 n\n",
            "3 a\n",
            "4 n\n",
            "5 a\n"
          ],
          "name": "stdout"
        }
      ]
    },
    {
      "cell_type": "code",
      "metadata": {
        "colab": {
          "base_uri": "https://localhost:8080/"
        },
        "id": "QbckSpHZx6eW",
        "outputId": "88225aac-72c3-4fc4-fdfb-ae5cecc68a0e"
      },
      "source": [
        "fruit = 'banana'\n",
        "index = 0\n",
        "for letter in fruit:\n",
        "    print(letter)"
      ],
      "execution_count": null,
      "outputs": [
        {
          "output_type": "stream",
          "text": [
            "b\n",
            "a\n",
            "n\n",
            "a\n",
            "n\n",
            "a\n"
          ],
          "name": "stdout"
        }
      ]
    },
    {
      "cell_type": "code",
      "metadata": {
        "colab": {
          "base_uri": "https://localhost:8080/"
        },
        "id": "h-caiA47zX0A",
        "outputId": "16f10cba-eb20-495a-976d-1494d56dd184"
      },
      "source": [
        "fruit = 'mango'\n",
        "print('n is in fruit =', 'n' in fruit)\n",
        "print('s is in fruit =', 's' in fruit)"
      ],
      "execution_count": null,
      "outputs": [
        {
          "output_type": "stream",
          "text": [
            "n is in fruit = True\n",
            "s is in fruit = False\n"
          ],
          "name": "stdout"
        }
      ]
    },
    {
      "cell_type": "code",
      "metadata": {
        "colab": {
          "base_uri": "https://localhost:8080/"
        },
        "id": "iSy3r-OfBKOo",
        "outputId": "939c0768-3ed0-4327-9de1-a60d0843d0bb"
      },
      "source": [
        "#converting upper case to lower case\n",
        "greet = 'Hello World'\n",
        "x = greet.lower()\n",
        "print(x)\n",
        "\n",
        "#converting lower case to upper case\n",
        "greet = 'Hello World'\n",
        "y = greet.upper()\n",
        "print(y)"
      ],
      "execution_count": null,
      "outputs": [
        {
          "output_type": "stream",
          "text": [
            "hello world\n",
            "HELLO WORLD\n"
          ],
          "name": "stdout"
        }
      ]
    },
    {
      "cell_type": "code",
      "metadata": {
        "colab": {
          "base_uri": "https://localhost:8080/"
        },
        "id": "gRCAVuTgC9hc",
        "outputId": "b566d6c9-2ae8-4657-c289-b08f47545a8f"
      },
      "source": [
        "#finding position/index value of letter in a word\n",
        "fruit = 'mango'\n",
        "pos = fruit.find('n')\n",
        "print(pos)"
      ],
      "execution_count": null,
      "outputs": [
        {
          "output_type": "stream",
          "text": [
            "2\n"
          ],
          "name": "stdout"
        }
      ]
    },
    {
      "cell_type": "code",
      "metadata": {
        "colab": {
          "base_uri": "https://localhost:8080/"
        },
        "id": "zqOuvA6wDoSZ",
        "outputId": "b405e9b2-d221-432a-a926-5fd0998e0334"
      },
      "source": [
        "#replacing words\n",
        "greet = 'hello bob'\n",
        "n = greet.replace('bob', 'john')\n",
        "print(n)"
      ],
      "execution_count": null,
      "outputs": [
        {
          "output_type": "stream",
          "text": [
            "hello john\n"
          ],
          "name": "stdout"
        }
      ]
    },
    {
      "cell_type": "code",
      "metadata": {
        "colab": {
          "base_uri": "https://localhost:8080/"
        },
        "id": "S6kl3yRuEHTP",
        "outputId": "cb1eff36-dcd3-425e-9a92-8040628ffc9c"
      },
      "source": [
        "#WHITE SPACES#\n",
        "\n",
        "#removing space before word\n",
        "greet = ' hello world 1'\n",
        "x = greet.lstrip()\n",
        "print(x)\n",
        "\n",
        "#removing space after word\n",
        "wish = 'hello world 2 '\n",
        "y = wish.rstrip()\n",
        "print(y)\n",
        "\n",
        "#removes space before and after word\n",
        "say = ' hello world 3 '\n",
        "z = say.strip()\n",
        "print(z)"
      ],
      "execution_count": null,
      "outputs": [
        {
          "output_type": "stream",
          "text": [
            "hello world 1\n",
            "hello world 2\n",
            "hello world 3\n"
          ],
          "name": "stdout"
        }
      ]
    },
    {
      "cell_type": "code",
      "metadata": {
        "colab": {
          "base_uri": "https://localhost:8080/"
        },
        "id": "m71bNUpDFPMz",
        "outputId": "1624f192-65d9-499a-c196-5c3b9dcd15e8"
      },
      "source": [
        "# checking prefixes\n",
        "line = 'this is my code'\n",
        "a = line.startswith('my')\n",
        "b = line.startswith('this')\n",
        "c = line.startswith('t')\n",
        "d = line.startswith('T')\n",
        "\n",
        "print(a)\n",
        "print(b)\n",
        "print(c)\n",
        "print(d)"
      ],
      "execution_count": null,
      "outputs": [
        {
          "output_type": "stream",
          "text": [
            "False\n",
            "True\n",
            "True\n",
            "False\n"
          ],
          "name": "stdout"
        }
      ]
    },
    {
      "cell_type": "code",
      "metadata": {
        "colab": {
          "base_uri": "https://localhost:8080/"
        },
        "id": "SJcWXBfO-sWg",
        "outputId": "aba1e29a-b558-473e-8415-83759dc81135"
      },
      "source": [
        "#cocatination\n",
        "x = [1, 2, 3, 4]\n",
        "y = [5, 6, 7, 8]\n",
        "\n",
        "a = ['john', 'parabellum']\n",
        "b = ['wick', 'chapter 3']\n",
        "\n",
        "print(x + y)\n",
        "print(a + b)"
      ],
      "execution_count": null,
      "outputs": [
        {
          "output_type": "stream",
          "text": [
            "[1, 2, 3, 4, 5, 6, 7, 8]\n",
            "['john', 'parabellum', 'wick', 'chapter 3']\n"
          ],
          "name": "stdout"
        }
      ]
    },
    {
      "cell_type": "code",
      "metadata": {
        "colab": {
          "base_uri": "https://localhost:8080/"
        },
        "id": "FlUUw6DL-4nR",
        "outputId": "c789ee30-070c-448c-d8bf-4f4bd1b41dd4"
      },
      "source": [
        "#slicing\n",
        "a = [64, 23, 45, 66, 32, 54]\n",
        "print(a[2:4])\n",
        "print(a[1])\n",
        "print(a[:4])\n",
        "print(a[2:])\n",
        "print(a[:])"
      ],
      "execution_count": null,
      "outputs": [
        {
          "output_type": "stream",
          "text": [
            "[45, 66]\n",
            "23\n",
            "[64, 23, 45, 66]\n",
            "[45, 66, 32, 54]\n",
            "[64, 23, 45, 66, 32, 54]\n"
          ],
          "name": "stdout"
        }
      ]
    },
    {
      "cell_type": "code",
      "metadata": {
        "colab": {
          "base_uri": "https://localhost:8080/"
        },
        "id": "F-QX_8Mk_5SC",
        "outputId": "6a41ddd1-bd93-459c-8889-44316cbb797d"
      },
      "source": [
        "#building list from scratch\n",
        "a = list()\n",
        "a.append(20)\n",
        "a.append('joe')\n",
        "a.append('john')\n",
        "a.append(23)\n",
        "print(a)"
      ],
      "execution_count": null,
      "outputs": [
        {
          "output_type": "stream",
          "text": [
            "[20, 'joe', 'john', 23]\n"
          ],
          "name": "stdout"
        }
      ]
    },
    {
      "cell_type": "code",
      "metadata": {
        "colab": {
          "base_uri": "https://localhost:8080/"
        },
        "id": "CtpNDo2UFs2S",
        "outputId": "e3fcd8b9-4ba1-41f3-a8ad-cebfa760998e"
      },
      "source": [
        "#sorting list\n",
        "a = [6, 3, 0, 5, 9, 10, 35]\n",
        "a.sort()\n",
        "\n",
        "b = ['roy', 'john', 'bob', 'sue']\n",
        "b.sort()\n",
        "\n",
        "print(a)\n",
        "print(b)"
      ],
      "execution_count": null,
      "outputs": [
        {
          "output_type": "stream",
          "text": [
            "[0, 3, 5, 6, 9, 10, 35]\n",
            "['bob', 'john', 'roy', 'sue']\n"
          ],
          "name": "stdout"
        }
      ]
    },
    {
      "cell_type": "code",
      "metadata": {
        "colab": {
          "base_uri": "https://localhost:8080/"
        },
        "id": "niwPXLLjGKzh",
        "outputId": "58c32de9-2bfd-4815-dd2f-c2c4a1237023"
      },
      "source": [
        "#pre defined functions\n",
        "num = [83, 92, 85, 10, 64, 88, 39]\n",
        "print(len(num))\n",
        "print(max(num))\n",
        "print(min(num))\n",
        "print(sum(num))\n",
        "print(sum(num) / len(num))"
      ],
      "execution_count": null,
      "outputs": [
        {
          "output_type": "stream",
          "text": [
            "7\n",
            "92\n",
            "10\n",
            "461\n",
            "65.85714285714286\n"
          ],
          "name": "stdout"
        }
      ]
    },
    {
      "cell_type": "code",
      "metadata": {
        "id": "VYrlqvSeNAfc",
        "colab": {
          "base_uri": "https://localhost:8080/"
        },
        "outputId": "a850e11f-43cd-4773-cb11-798a11e10aef"
      },
      "source": [
        "lst = 4\n",
        "a = list()\n",
        "for num in [10, 7, 2, 9, 3, 6, 4, 1, 5, 8]:\n",
        "    if lst < num:\n",
        "        a.append(lst + num)\n",
        "    elif lst > num:\n",
        "        a.append(lst - num)\n",
        "    else:\n",
        "        a.append(lst + num)\n",
        "print(a)"
      ],
      "execution_count": null,
      "outputs": [
        {
          "output_type": "stream",
          "text": [
            "[14, 11, 2, 13, 1, 10, 8, 3, 9, 12]\n"
          ],
          "name": "stdout"
        }
      ]
    },
    {
      "cell_type": "code",
      "metadata": {
        "id": "FbN3Bl0uOTzI",
        "colab": {
          "base_uri": "https://localhost:8080/"
        },
        "outputId": "33d9498c-53ea-415a-d3a9-0b79dd7d4edd"
      },
      "source": [
        "#lists are mutable/changable\n",
        "a = [10, 7, 2, 9, 3, 6, 4, 1, 5, 8]\n",
        "a[2] = 1\n",
        "print(a)"
      ],
      "execution_count": null,
      "outputs": [
        {
          "output_type": "stream",
          "text": [
            "[10, 7, 1, 9, 3, 6, 4, 1, 5, 8]\n"
          ],
          "name": "stdout"
        }
      ]
    },
    {
      "cell_type": "code",
      "metadata": {
        "colab": {
          "base_uri": "https://localhost:8080/"
        },
        "id": "yIrYlvVkNuAw",
        "outputId": "4f3888d8-957c-4648-91ee-824a2eb9dae8"
      },
      "source": [
        "#tuples - same like lists but tuples are immutable\n",
        "x = ('roy', 'ben', 'sue', 'john')\n",
        "y = (1, 2, 3, 4)\n",
        "\n",
        "print(x)\n",
        "print(y)\n",
        "\n",
        "(a, b) = ('bob', 5)\n",
        "\n",
        "print(a)\n",
        "print(b)"
      ],
      "execution_count": null,
      "outputs": [
        {
          "output_type": "stream",
          "text": [
            "bob\n",
            "5\n"
          ],
          "name": "stdout"
        }
      ]
    },
    {
      "cell_type": "code",
      "metadata": {
        "colab": {
          "base_uri": "https://localhost:8080/",
          "height": 197
        },
        "id": "Qi8Hv1T1G97c",
        "outputId": "82b71e15-4f14-4a02-b138-6791137be9a9"
      },
      "source": [
        "# dictionaries are same like lists but are non mutable/ non changable\n",
        "a = {10, 7, 2, 9, 3, 6, 4, 1, 5, 8}\n",
        "a[2] = 1\n",
        "print(a)"
      ],
      "execution_count": null,
      "outputs": [
        {
          "output_type": "error",
          "ename": "TypeError",
          "evalue": "ignored",
          "traceback": [
            "\u001b[0;31m---------------------------------------------------------------------------\u001b[0m",
            "\u001b[0;31mTypeError\u001b[0m                                 Traceback (most recent call last)",
            "\u001b[0;32m<ipython-input-4-15f54b844356>\u001b[0m in \u001b[0;36m<module>\u001b[0;34m()\u001b[0m\n\u001b[1;32m      1\u001b[0m \u001b[0ma\u001b[0m \u001b[0;34m=\u001b[0m \u001b[0;34m{\u001b[0m\u001b[0;36m10\u001b[0m\u001b[0;34m,\u001b[0m \u001b[0;36m7\u001b[0m\u001b[0;34m,\u001b[0m \u001b[0;36m2\u001b[0m\u001b[0;34m,\u001b[0m \u001b[0;36m9\u001b[0m\u001b[0;34m,\u001b[0m \u001b[0;36m3\u001b[0m\u001b[0;34m,\u001b[0m \u001b[0;36m6\u001b[0m\u001b[0;34m,\u001b[0m \u001b[0;36m4\u001b[0m\u001b[0;34m,\u001b[0m \u001b[0;36m1\u001b[0m\u001b[0;34m,\u001b[0m \u001b[0;36m5\u001b[0m\u001b[0;34m,\u001b[0m \u001b[0;36m8\u001b[0m\u001b[0;34m}\u001b[0m\u001b[0;34m\u001b[0m\u001b[0;34m\u001b[0m\u001b[0m\n\u001b[0;32m----> 2\u001b[0;31m \u001b[0ma\u001b[0m\u001b[0;34m[\u001b[0m\u001b[0;36m2\u001b[0m\u001b[0;34m]\u001b[0m \u001b[0;34m=\u001b[0m \u001b[0;36m1\u001b[0m\u001b[0;34m\u001b[0m\u001b[0;34m\u001b[0m\u001b[0m\n\u001b[0m\u001b[1;32m      3\u001b[0m \u001b[0mprint\u001b[0m\u001b[0;34m(\u001b[0m\u001b[0ma\u001b[0m\u001b[0;34m)\u001b[0m\u001b[0;34m\u001b[0m\u001b[0;34m\u001b[0m\u001b[0m\n",
            "\u001b[0;31mTypeError\u001b[0m: 'set' object does not support item assignment"
          ]
        }
      ]
    },
    {
      "cell_type": "code",
      "metadata": {
        "colab": {
          "base_uri": "https://localhost:8080/"
        },
        "id": "436m8KyOHSiQ",
        "outputId": "6fb66fdb-e916-474f-845a-6207722c71a5"
      },
      "source": [
        "a = ['joe', 'bob', 'ron', 'mike']\n",
        "a[2] = 'roy'\n",
        "print(a)"
      ],
      "execution_count": null,
      "outputs": [
        {
          "output_type": "stream",
          "text": [
            "['joe', 'bob', 'roy', 'mike']\n"
          ],
          "name": "stdout"
        }
      ]
    },
    {
      "cell_type": "code",
      "metadata": {
        "colab": {
          "base_uri": "https://localhost:8080/"
        },
        "id": "p6gYotU3Ht2K",
        "outputId": "08cb3d6e-0954-4315-e74a-26ec1d35d30d"
      },
      "source": [
        "#dictonaries - same like lists but has no order for values stored in it.\n",
        "a = {}\n",
        "a['money'] = 12\n",
        "a['card'] = 5\n",
        "a['photo'] = 3\n",
        "a['coin'] = 6\n",
        "\n",
        "print(a)\n",
        "\n",
        "print(a.keys())\n",
        "\n",
        "print(a.values())\n",
        "\n",
        "print(list(a))\n",
        "\n",
        "#shows predefined methods/functions and many others stored in directory of dictonary\n",
        "dir(a)"
      ],
      "execution_count": null,
      "outputs": [
        {
          "output_type": "stream",
          "text": [
            "{'money': 12, 'card': 5, 'photo': 3, 'coin': 6}\n",
            "dict_keys(['money', 'card', 'photo', 'coin'])\n",
            "dict_values([12, 5, 3, 6])\n",
            "['money', 'card', 'photo', 'coin']\n"
          ],
          "name": "stdout"
        },
        {
          "output_type": "execute_result",
          "data": {
            "text/plain": [
              "['__class__',\n",
              " '__contains__',\n",
              " '__delattr__',\n",
              " '__delitem__',\n",
              " '__dir__',\n",
              " '__doc__',\n",
              " '__eq__',\n",
              " '__format__',\n",
              " '__ge__',\n",
              " '__getattribute__',\n",
              " '__getitem__',\n",
              " '__gt__',\n",
              " '__hash__',\n",
              " '__init__',\n",
              " '__init_subclass__',\n",
              " '__iter__',\n",
              " '__le__',\n",
              " '__len__',\n",
              " '__lt__',\n",
              " '__ne__',\n",
              " '__new__',\n",
              " '__reduce__',\n",
              " '__reduce_ex__',\n",
              " '__repr__',\n",
              " '__setattr__',\n",
              " '__setitem__',\n",
              " '__sizeof__',\n",
              " '__str__',\n",
              " '__subclasshook__',\n",
              " 'clear',\n",
              " 'copy',\n",
              " 'fromkeys',\n",
              " 'get',\n",
              " 'items',\n",
              " 'keys',\n",
              " 'pop',\n",
              " 'popitem',\n",
              " 'setdefault',\n",
              " 'update',\n",
              " 'values']"
            ]
          },
          "metadata": {
            "tags": []
          },
          "execution_count": 21
        }
      ]
    },
    {
      "cell_type": "code",
      "metadata": {
        "colab": {
          "base_uri": "https://localhost:8080/"
        },
        "id": "wuuTr8DrI67x",
        "outputId": "1a5d8d24-998a-42db-c7f1-420edcad31f6"
      },
      "source": [
        "count = dict()\n",
        "names = ['roy', 'bob', 'sue', 'roy', 'john', 'bob', 'sue', 'roy']\n",
        "for name in names:\n",
        "    count[name] = count.get(name, 0) + 1\n",
        "print(count)"
      ],
      "execution_count": null,
      "outputs": [
        {
          "output_type": "stream",
          "text": [
            "{'roy': 3, 'bob': 2, 'sue': 2, 'john': 1}\n"
          ],
          "name": "stdout"
        },
        {
          "output_type": "execute_result",
          "data": {
            "text/plain": [
              "dict"
            ]
          },
          "metadata": {
            "tags": []
          },
          "execution_count": 19
        }
      ]
    },
    {
      "cell_type": "code",
      "metadata": {
        "colab": {
          "base_uri": "https://localhost:8080/"
        },
        "id": "1qDm5FxSKKDj",
        "outputId": "456013f1-4037-494d-b7ba-f9cb4a91b765"
      },
      "source": [
        "name = input('enter text:')\n",
        "counts = dict()\n",
        "\n",
        "for line in name:\n",
        "    words = line.split()\n",
        "    for word in words:\n",
        "        counts[word] = counts.get(word, 0) + 1\n",
        "bigcount = None\n",
        "bigword = None\n",
        "\n",
        "for word, count in counts.items():\n",
        "    if bigcount is None or count > bigcount:\n",
        "        bigword = word\n",
        "        bigcount = count\n",
        "print('bigword=', bigword, 'bigcount=', bigcount)"
      ],
      "execution_count": null,
      "outputs": [
        {
          "output_type": "stream",
          "text": [
            "enter text:Intellipaat’s Cloud Architect certification course will provide you with in-depth knowledge on how to build applications on the cloud. This MS in Cloud Computing program will help you learn the best practices for deploying SaaS, PaaS, and IaaS applications on AWS and Microsoft Azure. You will master DevOps tools to automate and improve the overall efficiency and delivery of software applications. As part of this Cl oud master’s program, you will learn the most flexible and adaptive language which is Python. This Master’s Degree in Cloud Computing is specially designed by industry experts, and as part of it, you will get 11 courses with 26 industry-based projects. Further, you will also receive the official course material of the Cloud Architect master’s program issued by Microsoft for ‘Integrating On-premises Identity\n",
            "bigword= e bigcount= 62\n"
          ],
          "name": "stdout"
        }
      ]
    },
    {
      "cell_type": "code",
      "metadata": {
        "id": "hEsfq1mlRsCS",
        "colab": {
          "base_uri": "https://localhost:8080/"
        },
        "outputId": "e63f7956-9e3f-4dbe-b20b-63932f92c694"
      },
      "source": [
        "#an HTTP request in python\n",
        "import socket\n",
        "mysock = socket.socket(socket.AF_INET, socket.SOCK_STREAM)\n",
        "mysock.connect(('data.pr4e.org', 80))\n",
        "cmd = 'GET http://data.pr4e.org/romeo.txt HTTP/1.0 \\n\\n'.encode()\n",
        "mysock.send(cmd)\n",
        "\n",
        "while True:\n",
        "    data = mysock.recv(512)\n",
        "    if(len(data) < 1):\n",
        "        break\n",
        "    print(data.decode())\n",
        "mysock.close()"
      ],
      "execution_count": 5,
      "outputs": [
        {
          "output_type": "stream",
          "text": [
            "HTTP/1.1 400 Bad Request\r\n",
            "Date: Fri, 13 Aug 2021 06:54:56 GMT\r\n",
            "Server: Apache/2.4.18 (Ubuntu)\r\n",
            "Content-Length: 308\r\n",
            "Connection: close\r\n",
            "Content-Type: text/html; charset=iso-8859-1\r\n",
            "\r\n",
            "<!DOCTYPE HTML PUBLIC \"-//IETF//DTD HTML 2.0//EN\">\n",
            "<html><head>\n",
            "<title>400 Bad Request</title>\n",
            "</head><body>\n",
            "<h1>Bad Request</h1>\n",
            "<p>Your browser sent a request that this server could not understand.<br />\n",
            "</p>\n",
            "<hr>\n",
            "<address>Apache/2.4.18 (Ubuntu) Server at do1.dr-chuck.com Port 80</address>\n",
            "</body></html>\n",
            "\n"
          ],
          "name": "stdout"
        }
      ]
    },
    {
      "cell_type": "code",
      "metadata": {
        "colab": {
          "base_uri": "https://localhost:8080/"
        },
        "id": "rr27SvXWLgzD",
        "outputId": "b50c7162-f846-4a1b-b9d7-6e8a1bf4e8aa"
      },
      "source": [
        "#same code in 4 line to send an HTTP request in python using 'urllib'\n",
        "import urllib.request, urllib.parse, urllib.error\n",
        "fhand = urllib.request.urlopen('http://data.pr4e.org/romeo.txt')\n",
        "for line in fhand:\n",
        "    print(line.decode().strip())"
      ],
      "execution_count": 6,
      "outputs": [
        {
          "output_type": "stream",
          "text": [
            "But soft what light through yonder window breaks\n",
            "It is the east and Juliet is the sun\n",
            "Arise fair sun and kill the envious moon\n",
            "Who is already sick and pale with grief\n"
          ],
          "name": "stdout"
        }
      ]
    },
    {
      "cell_type": "code",
      "metadata": {
        "colab": {
          "base_uri": "https://localhost:8080/"
        },
        "id": "o0qo8cJETq2s",
        "outputId": "1b94a193-468e-41af-e52f-e6cd3a9c573b"
      },
      "source": [
        "#to convert the string representing one Unicode character into integer representing the Unicode code of the character.\n",
        "print(ord('H'))\n",
        "print(ord('e'))\n",
        "print(ord('\\n'))"
      ],
      "execution_count": 8,
      "outputs": [
        {
          "output_type": "stream",
          "text": [
            "72\n",
            "101\n",
            "10\n"
          ],
          "name": "stdout"
        }
      ]
    },
    {
      "cell_type": "code",
      "metadata": {
        "colab": {
          "base_uri": "https://localhost:8080/"
        },
        "id": "Qq3gWxRKTx8t",
        "outputId": "54894af8-dc89-40a7-9048-80c531e2e603"
      },
      "source": [
        "#reading the contents of a file and storing them in dictionary\n",
        "import urllib.request, urllib.parse, urllib.error\n",
        "fhand = urllib.request.urlopen('http://data.pr4e.org/romeo.txt')\n",
        "counts = dict()\n",
        "for line in fhand:\n",
        "    words = line.decode().split()\n",
        "    for word in words:\n",
        "        counts[word] = counts.get(word, 0) + 1\n",
        "print(counts)"
      ],
      "execution_count": 9,
      "outputs": [
        {
          "output_type": "stream",
          "text": [
            "{'But': 1, 'soft': 1, 'what': 1, 'light': 1, 'through': 1, 'yonder': 1, 'window': 1, 'breaks': 1, 'It': 1, 'is': 3, 'the': 3, 'east': 1, 'and': 3, 'Juliet': 1, 'sun': 2, 'Arise': 1, 'fair': 1, 'kill': 1, 'envious': 1, 'moon': 1, 'Who': 1, 'already': 1, 'sick': 1, 'pale': 1, 'with': 1, 'grief': 1}\n"
          ],
          "name": "stdout"
        }
      ]
    },
    {
      "cell_type": "code",
      "metadata": {
        "colab": {
          "base_uri": "https://localhost:8080/"
        },
        "id": "YdzX8Fm_UvMl",
        "outputId": "840f04fe-49f9-4bd7-ccf5-3466d79546f7"
      },
      "source": [
        "#reading the content of web pages\n",
        "import urllib.request, urllib.parse, urllib.error\n",
        "fhand = urllib.request.urlopen('http://www.dr-chuck.com/page1.html')\n",
        "for line in fhand:\n",
        "    print(line.decode().strip())"
      ],
      "execution_count": 10,
      "outputs": [
        {
          "output_type": "stream",
          "text": [
            "<h1>The First Page</h1>\n",
            "<p>\n",
            "If you like, you can switch to the\n",
            "<a href=\"http://www.dr-chuck.com/page2.htm\">\n",
            "Second Page</a>.\n",
            "</p>\n"
          ],
          "name": "stdout"
        }
      ]
    }
  ]
}