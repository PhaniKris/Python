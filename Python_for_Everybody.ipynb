{
  "nbformat": 4,
  "nbformat_minor": 0,
  "metadata": {
    "colab": {
      "name": "Python for Everybody.ipynb",
      "provenance": [],
      "authorship_tag": "ABX9TyNXlsw+ry6sVhlT5soeTbwy",
      "include_colab_link": true
    },
    "kernelspec": {
      "name": "python3",
      "display_name": "Python 3"
    },
    "language_info": {
      "name": "python"
    }
  },
  "cells": [
    {
      "cell_type": "markdown",
      "metadata": {
        "id": "view-in-github",
        "colab_type": "text"
      },
      "source": [
        "<a href=\"https://colab.research.google.com/github/PhaniKris/Python/blob/main/Python_for_Everybody.ipynb\" target=\"_parent\"><img src=\"https://colab.research.google.com/assets/colab-badge.svg\" alt=\"Open In Colab\"/></a>"
      ]
    },
    {
      "cell_type": "code",
      "metadata": {
        "colab": {
          "base_uri": "https://localhost:8080/"
        },
        "id": "XsqHXTg5SsJQ",
        "outputId": "51096d85-bf11-47e8-fa08-09be7ce27fba"
      },
      "source": [
        "sh = input(\"Enter Hours:\")\n",
        "fh = float(sh)\n",
        "sr = input(\"Enter Rate:\")\n",
        "fr = float(sr)\n",
        "pay = fh + fr\n",
        "print(pay)"
      ],
      "execution_count": 3,
      "outputs": [
        {
          "output_type": "stream",
          "text": [
            "Enter Hours:498.75\n",
            "Enter Rate:0\n",
            "pay 498.75\n"
          ],
          "name": "stdout"
        }
      ]
    },
    {
      "cell_type": "code",
      "metadata": {
        "colab": {
          "base_uri": "https://localhost:8080/"
        },
        "id": "M20jzwScaJRK",
        "outputId": "4ed05e8d-b37c-421b-ec94-9bae3ea12e32"
      },
      "source": [
        "x = input(\"enter the number\")\n",
        "num = float(x)\n",
        "if num >= 0.9 :\n",
        "    print(\"A\")\n",
        "elif num >= 0.8 :\n",
        "    print(\"B\")\n",
        "elif num >= 0.7 :\n",
        "    print(\"C\")\n",
        "elif num >= 0.6 :\n",
        "    print(\"D\")\n",
        "elif num < 0.6 :\n",
        "    print(\"E\")\n",
        "else :\n",
        "    print(\"there is error\")"
      ],
      "execution_count": 14,
      "outputs": [
        {
          "output_type": "stream",
          "text": [
            "enter the number0.85\n",
            "B\n"
          ],
          "name": "stdout"
        }
      ]
    },
    {
      "cell_type": "code",
      "metadata": {
        "id": "4CH4VsMudpsM"
      },
      "source": [
        "if  x == 5 :\n",
        "    print('Is 5')\n",
        "    print('Is Still 5')\n",
        "    print('Third 5')"
      ],
      "execution_count": 10,
      "outputs": []
    },
    {
      "cell_type": "code",
      "metadata": {
        "colab": {
          "base_uri": "https://localhost:8080/"
        },
        "id": "iI6WtrErebfK",
        "outputId": "3b64428f-974e-4d18-827c-579f58bc7064"
      },
      "source": [
        "x = 0\n",
        "if x < 2 :\n",
        "    print('Small')\n",
        "elif x < 10 :\n",
        "    print('Medium')\n",
        "else :\n",
        "    print('LARGE')\n",
        "print('All done')"
      ],
      "execution_count": 11,
      "outputs": [
        {
          "output_type": "stream",
          "text": [
            "Small\n",
            "All done\n"
          ],
          "name": "stdout"
        }
      ]
    },
    {
      "cell_type": "code",
      "metadata": {
        "colab": {
          "base_uri": "https://localhost:8080/"
        },
        "id": "ntBldnYUfGdW",
        "outputId": "d87372a1-dd07-4c2b-8d78-48f72946b12b"
      },
      "source": [
        "x = 2.0\n",
        "if x < 2 :\n",
        "    print('Below 2')\n",
        "elif x >= 2 :\n",
        "     print('Two or more')\n",
        "else :\n",
        "    print('Something else')"
      ],
      "execution_count": 16,
      "outputs": [
        {
          "output_type": "stream",
          "text": [
            "Two or more\n"
          ],
          "name": "stdout"
        }
      ]
    },
    {
      "cell_type": "code",
      "metadata": {
        "colab": {
          "base_uri": "https://localhost:8080/"
        },
        "id": "mDgJ4Zc7fl6z",
        "outputId": "cc6fb495-9d03-48bc-ac00-3654cbdc8228"
      },
      "source": [
        "astr = 'Hello Bob'\n",
        "istr = 0\n",
        "try:\n",
        "    istr = int(astr)\n",
        "except:\n",
        "    istr = -1\n",
        "print(istr)"
      ],
      "execution_count": 18,
      "outputs": [
        {
          "output_type": "stream",
          "text": [
            "-1\n"
          ],
          "name": "stdout"
        }
      ]
    }
  ]
}